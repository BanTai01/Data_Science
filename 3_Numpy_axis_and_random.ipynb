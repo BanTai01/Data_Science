{
  "nbformat": 4,
  "nbformat_minor": 0,
  "metadata": {
    "colab": {
      "provenance": [],
      "authorship_tag": "ABX9TyOrJdEm9AaesuxSxTU7aiIL",
      "include_colab_link": true
    },
    "kernelspec": {
      "name": "python3",
      "display_name": "Python 3"
    },
    "language_info": {
      "name": "python"
    }
  },
  "cells": [
    {
      "cell_type": "markdown",
      "metadata": {
        "id": "view-in-github",
        "colab_type": "text"
      },
      "source": [
        "<a href=\"https://colab.research.google.com/github/BanTai01/Data_Science/blob/main/3_Numpy_axis_and_random.ipynb\" target=\"_parent\"><img src=\"https://colab.research.google.com/assets/colab-badge.svg\" alt=\"Open In Colab\"/></a>"
      ]
    },
    {
      "cell_type": "code",
      "execution_count": 1,
      "metadata": {
        "id": "vpsROgEBckpa"
      },
      "outputs": [],
      "source": [
        "import numpy as np"
      ]
    },
    {
      "cell_type": "code",
      "source": [
        "my_np_array = np.zeros(\n",
        "    shape = (2, 3, 2)\n",
        ")\n",
        "print(my_np_array.ndim)\n",
        "print(my_np_array)"
      ],
      "metadata": {
        "colab": {
          "base_uri": "https://localhost:8080/"
        },
        "id": "BpVJJwEgctUY",
        "outputId": "8c4e5099-ca49-4c91-c48e-94c1dec92edc"
      },
      "execution_count": 4,
      "outputs": [
        {
          "output_type": "stream",
          "name": "stdout",
          "text": [
            "3\n",
            "[[[0. 0.]\n",
            "  [0. 0.]\n",
            "  [0. 0.]]\n",
            "\n",
            " [[0. 0.]\n",
            "  [0. 0.]\n",
            "  [0. 0.]]]\n"
          ]
        }
      ]
    },
    {
      "cell_type": "code",
      "source": [
        "\"\"\"\n",
        "First dimension: axis = 0\n",
        "second dimension: axis = 1\n",
        "Third dimension: axis = 2\n",
        "....\n",
        "N th dimension: axis = N - 1\n",
        "\n",
        "aggregation function: sum, min, max, median\n",
        "\"\"\"\n",
        "\n",
        "my_2d_array = np.array(\n",
        "    [\n",
        "        [1, 5, -2],\n",
        "        [0, 1, 9]\n",
        "    ]\n",
        ")\n",
        "print(my_2d_array.shape)\n",
        "print(f\"Sum is {np.sum(my_2d_array, axis = 1 )}\")\n",
        "\n",
        "print(f\"Sum is {np.sum(my_2d_array, axis = 0 )}\")\n"
      ],
      "metadata": {
        "colab": {
          "base_uri": "https://localhost:8080/"
        },
        "id": "AHN9MYJUctRJ",
        "outputId": "b7cd651f-98e9-4cc4-ccec-3ce9d786274f"
      },
      "execution_count": 10,
      "outputs": [
        {
          "output_type": "stream",
          "name": "stdout",
          "text": [
            "(2, 3)\n",
            "Sum is [ 4 10]\n",
            "Sum is [1 6 7]\n"
          ]
        }
      ]
    },
    {
      "cell_type": "code",
      "source": [
        "my_3d_array = np.zeros(\n",
        "    shape = (3, 2, 2)\n",
        ")\n",
        "print(my_3d_array)\n",
        "print(np.sum(my_3d_array, axis=0).shape)\n",
        "print(np.sum(my_3d_array, axis=1).shape)\n",
        "print(np.sum(my_3d_array, axis=2).shape)\n"
      ],
      "metadata": {
        "colab": {
          "base_uri": "https://localhost:8080/"
        },
        "id": "B2cS-3iTctMp",
        "outputId": "a41bac46-8643-4046-9256-aa749937e8d4"
      },
      "execution_count": 12,
      "outputs": [
        {
          "output_type": "stream",
          "name": "stdout",
          "text": [
            "[[[0. 0.]\n",
            "  [0. 0.]]\n",
            "\n",
            " [[0. 0.]\n",
            "  [0. 0.]]\n",
            "\n",
            " [[0. 0.]\n",
            "  [0. 0.]]]\n",
            "(2, 2)\n",
            "(3, 2)\n",
            "(3, 2)\n"
          ]
        }
      ]
    },
    {
      "cell_type": "markdown",
      "source": [
        "# Numpy Random\n",
        "\n"
      ],
      "metadata": {
        "id": "d_bF-etN2kCp"
      }
    },
    {
      "cell_type": "code",
      "source": [
        "print(np.random.rand(5))\n",
        "print(type(np.random.rand(5)))"
      ],
      "metadata": {
        "colab": {
          "base_uri": "https://localhost:8080/"
        },
        "id": "sgxAWTCmctIp",
        "outputId": "62e962e7-6b0f-473b-8059-49d6ead5e447"
      },
      "execution_count": 16,
      "outputs": [
        {
          "output_type": "stream",
          "name": "stdout",
          "text": [
            "[0.69033555 0.81115878 0.82188069 0.68045741 0.32844063]\n",
            "<class 'numpy.ndarray'>\n"
          ]
        }
      ]
    },
    {
      "cell_type": "code",
      "source": [
        "random_array = np.random.randint(100, size=(2,5))\n",
        "print(random_array)\n"
      ],
      "metadata": {
        "colab": {
          "base_uri": "https://localhost:8080/"
        },
        "id": "q2-IMVepctA0",
        "outputId": "8dfbd2f1-1587-4410-a391-8f8c26e796ce"
      },
      "execution_count": 22,
      "outputs": [
        {
          "output_type": "stream",
          "name": "stdout",
          "text": [
            "[[86 34 42  2 37]\n",
            " [28 99  5 11 39]]\n"
          ]
        }
      ]
    },
    {
      "cell_type": "code",
      "source": [
        "np.random.shuffle(random_array)\n",
        "print(random_array)"
      ],
      "metadata": {
        "colab": {
          "base_uri": "https://localhost:8080/"
        },
        "id": "gq56DlUUcs4X",
        "outputId": "337103f5-9ab8-483b-e0ab-feeb94ce9434"
      },
      "execution_count": 27,
      "outputs": [
        {
          "output_type": "stream",
          "name": "stdout",
          "text": [
            "[[86 34 42  2 37]\n",
            " [28 99  5 11 39]]\n"
          ]
        }
      ]
    },
    {
      "cell_type": "code",
      "source": [
        "\"\"\" Datasets are divided into three types:\n",
        "1: training datasets\n",
        "2: validation datasets\n",
        "3: test datasets\n",
        "\"\"\"\n",
        "datasets = np.random.rand(1000, 5)\n",
        "print(\"Datasets :\\n\", datasets[:5])\n"
      ],
      "metadata": {
        "colab": {
          "base_uri": "https://localhost:8080/"
        },
        "id": "8S4Ur8Gvcswf",
        "outputId": "77832e11-1d5e-4f7f-c524-ceda0c8dafbd"
      },
      "execution_count": 32,
      "outputs": [
        {
          "output_type": "stream",
          "name": "stdout",
          "text": [
            "Datasets :\n",
            " [[0.17760992 0.18659466 0.09626059 0.63323974 0.00739694]\n",
            " [0.34305853 0.64705006 0.56668777 0.40455671 0.42339537]\n",
            " [0.17959448 0.72996479 0.21348118 0.27175042 0.81589693]\n",
            " [0.63490535 0.81548592 0.03100211 0.83807336 0.19147215]\n",
            " [0.24593425 0.24122293 0.34775187 0.77901798 0.98130507]]\n"
          ]
        }
      ]
    },
    {
      "cell_type": "code",
      "source": [
        "np.random.shuffle(datasets)\n",
        "print(datasets[:5])"
      ],
      "metadata": {
        "colab": {
          "base_uri": "https://localhost:8080/"
        },
        "id": "USWdo4-fcso2",
        "outputId": "ca7382a3-007e-40cb-ce71-47960c0c9724"
      },
      "execution_count": 33,
      "outputs": [
        {
          "output_type": "stream",
          "name": "stdout",
          "text": [
            "[[0.44133293 0.65909678 0.58950493 0.56085952 0.59400338]\n",
            " [0.09300517 0.10751414 0.71791061 0.10906975 0.9061152 ]\n",
            " [0.59628241 0.81016475 0.21017232 0.30906555 0.32312803]\n",
            " [0.26072751 0.41554576 0.95328016 0.66143054 0.10035385]\n",
            " [0.91562378 0.41042525 0.30172214 0.80756809 0.34618545]]\n"
          ]
        }
      ]
    },
    {
      "cell_type": "code",
      "source": [
        "\"\"\" step 2: split\"\"\"\n",
        "\n",
        "index_1 = int(0.8 * len(datasets))\n",
        "index_2 = int(0.9 * len(datasets))\n",
        "trainset, valset, testset = np.split(\n",
        "    datasets, [index_1, index_2],\n",
        ")\n",
        "print(len(trainset), len(valset), len(testset))"
      ],
      "metadata": {
        "colab": {
          "base_uri": "https://localhost:8080/"
        },
        "id": "N8BkdUN7csgc",
        "outputId": "448885b0-1d25-4aa3-8381-2015b5181136"
      },
      "execution_count": 34,
      "outputs": [
        {
          "output_type": "stream",
          "name": "stdout",
          "text": [
            "800 100 100\n"
          ]
        }
      ]
    }
  ]
}