{
  "nbformat": 4,
  "nbformat_minor": 0,
  "metadata": {
    "colab": {
      "provenance": [],
      "authorship_tag": "ABX9TyMuV+1EC1Pv5sQRu7At6vZ+",
      "include_colab_link": true
    },
    "kernelspec": {
      "name": "python3",
      "display_name": "Python 3"
    },
    "language_info": {
      "name": "python"
    }
  },
  "cells": [
    {
      "cell_type": "markdown",
      "metadata": {
        "id": "view-in-github",
        "colab_type": "text"
      },
      "source": [
        "<a href=\"https://colab.research.google.com/github/BanTai01/Data_Science/blob/main/Numpy_Basic.ipynb\" target=\"_parent\"><img src=\"https://colab.research.google.com/assets/colab-badge.svg\" alt=\"Open In Colab\"/></a>"
      ]
    },
    {
      "cell_type": "markdown",
      "source": [
        "## **Importing Libraries**"
      ],
      "metadata": {
        "id": "pnHJRrasgrf9"
      }
    },
    {
      "cell_type": "code",
      "execution_count": 1,
      "metadata": {
        "id": "XFBqkdFEeyMF"
      },
      "outputs": [],
      "source": [
        "import numpy as np"
      ]
    },
    {
      "cell_type": "code",
      "source": [
        "my_np_array = np.array(\n",
        "    [1,2,3,4,6,7,8]\n",
        ")\n",
        "print(my_np_array)\n",
        "print(type(my_np_array))\n",
        "print(my_np_array.dtype)\n",
        "print(my_np_array.shape)\n",
        "print(my_np_array.ndim)"
      ],
      "metadata": {
        "colab": {
          "base_uri": "https://localhost:8080/"
        },
        "id": "4rxNOA7r4iU2",
        "outputId": "4fb71815-86bb-4d32-d0fb-9d0dca04bb7d"
      },
      "execution_count": 9,
      "outputs": [
        {
          "output_type": "stream",
          "name": "stdout",
          "text": [
            "[1 2 3 4 6 7 8]\n",
            "<class 'numpy.ndarray'>\n",
            "(7,)\n",
            "1\n"
          ]
        }
      ]
    },
    {
      "cell_type": "markdown",
      "source": [
        "# Create and array with all zeros"
      ],
      "metadata": {
        "id": "2AxrWAdH5kgE"
      }
    },
    {
      "cell_type": "code",
      "source": [
        "zeros_np_array = np.zeros(\n",
        "    shape = (5,)\n",
        ")\n",
        "print(zeros_np_array)\n",
        "\n",
        "ones_np_array = np.ones(\n",
        "    shape = (3,3),\n",
        "    dtype = 'int'\n",
        ")\n",
        "print(ones_np_array)"
      ],
      "metadata": {
        "colab": {
          "base_uri": "https://localhost:8080/"
        },
        "id": "cVjAnHH55rjo",
        "outputId": "9b1c07f9-cd69-46f4-bdb4-cba60c551b5a"
      },
      "execution_count": 16,
      "outputs": [
        {
          "output_type": "stream",
          "name": "stdout",
          "text": [
            "[0. 0. 0. 0. 0.]\n",
            "[[1 1 1]\n",
            " [1 1 1]\n",
            " [1 1 1]]\n"
          ]
        }
      ]
    },
    {
      "cell_type": "code",
      "source": [
        "specific_np_array = np.full(\n",
        "    shape = (4,3),\n",
        "    fill_value = 15,\n",
        ")\n",
        "print(specific_np_array)"
      ],
      "metadata": {
        "colab": {
          "base_uri": "https://localhost:8080/"
        },
        "id": "LGdzrBmm6pog",
        "outputId": "d40733de-bae2-485c-cdf5-a6b61d570278"
      },
      "execution_count": 20,
      "outputs": [
        {
          "output_type": "stream",
          "name": "stdout",
          "text": [
            "[[15 15 15]\n",
            " [15 15 15]\n",
            " [15 15 15]\n",
            " [15 15 15]]\n"
          ]
        }
      ]
    },
    {
      "cell_type": "code",
      "source": [
        "# creating identity matrix\n",
        "id_matrix = np.eye(3)\n",
        "print(id_matrix)"
      ],
      "metadata": {
        "colab": {
          "base_uri": "https://localhost:8080/"
        },
        "id": "QEmK6xqH7Gsv",
        "outputId": "d84e4476-1a0f-492f-897b-76cd2bb9a318"
      },
      "execution_count": 21,
      "outputs": [
        {
          "output_type": "stream",
          "name": "stdout",
          "text": [
            "[[1. 0. 0.]\n",
            " [0. 1. 0.]\n",
            " [0. 0. 1.]]\n"
          ]
        }
      ]
    },
    {
      "cell_type": "code",
      "source": [
        "random_np_array = np.empty(\n",
        "    shape = (5,)\n",
        ")\n",
        "print(random_np_array)"
      ],
      "metadata": {
        "colab": {
          "base_uri": "https://localhost:8080/"
        },
        "id": "RUHGKJxB7Wgq",
        "outputId": "3d5df205-662d-4c8c-ba91-3e9b9693225b"
      },
      "execution_count": 27,
      "outputs": [
        {
          "output_type": "stream",
          "name": "stdout",
          "text": [
            "[0. 0. 0. 0. 0.]\n"
          ]
        }
      ]
    },
    {
      "cell_type": "markdown",
      "source": [
        "# Type casting\n"
      ],
      "metadata": {
        "id": "nv0dVf_F7yQ4"
      }
    },
    {
      "cell_type": "code",
      "source": [
        "print(random_np_array.dtype)\n",
        "random_np_array = random_np_array.astype('int')\n",
        "print(random_np_array)\n",
        "print(random_np_array.dtype)\n"
      ],
      "metadata": {
        "colab": {
          "base_uri": "https://localhost:8080/"
        },
        "id": "UvvMxl8v7pKx",
        "outputId": "e2b168bf-2bb3-44d9-e33a-b75e93e3c272"
      },
      "execution_count": 32,
      "outputs": [
        {
          "output_type": "stream",
          "name": "stdout",
          "text": [
            "int64\n",
            "[0 0 0 0 0]\n",
            "int64\n"
          ]
        }
      ]
    },
    {
      "cell_type": "markdown",
      "source": [
        "# Creating sequential array"
      ],
      "metadata": {
        "id": "LUa9ZJHy81GX"
      }
    },
    {
      "cell_type": "code",
      "source": [
        "my_array = np.arange(start = 1, stop = 10, step = 1)\n",
        "print(my_array)"
      ],
      "metadata": {
        "colab": {
          "base_uri": "https://localhost:8080/"
        },
        "id": "xdZNZIZS8tMe",
        "outputId": "0ed7a98e-0ad3-4228-c416-d05db4601596"
      },
      "execution_count": 33,
      "outputs": [
        {
          "output_type": "stream",
          "name": "stdout",
          "text": [
            "[1 2 3 4 5 6 7 8 9]\n"
          ]
        }
      ]
    },
    {
      "cell_type": "code",
      "source": [
        "my_np_arrays = np.linspace(\n",
        "    start = 0,\n",
        "    stop = 10,\n",
        "    num = 5,\n",
        ")\n",
        "print(my_np_arrays)"
      ],
      "metadata": {
        "colab": {
          "base_uri": "https://localhost:8080/"
        },
        "id": "OjAlPoy79VZ6",
        "outputId": "e01ff246-56b5-4ec4-a3e4-3d49369ae269"
      },
      "execution_count": 34,
      "outputs": [
        {
          "output_type": "stream",
          "name": "stdout",
          "text": [
            "[ 0.   2.5  5.   7.5 10. ]\n"
          ]
        }
      ]
    },
    {
      "cell_type": "markdown",
      "source": [
        "# Multi dimensional array"
      ],
      "metadata": {
        "id": "gniCaAU_9o2h"
      }
    },
    {
      "cell_type": "code",
      "source": [
        "\"\"\"numpy array dimensions\n",
        "mathematical objects\n",
        "-scalar = 0D\n",
        "-vector = 1D\n",
        "-Matrix = 2D\n",
        "-Tensor = xD where x>2\n",
        "\n",
        "Tensor is a unit data\n",
        "\"\"\"\n",
        "specific_np_array = np.full(\n",
        "    shape = (4,3, 5),\n",
        "    fill_value = 15,\n",
        ")\n",
        "print(specific_np_array)\n"
      ],
      "metadata": {
        "colab": {
          "base_uri": "https://localhost:8080/"
        },
        "id": "w_JBv8yt9nxZ",
        "outputId": "cf30e0fe-ab23-48eb-b824-13f522d2a9ce"
      },
      "execution_count": 35,
      "outputs": [
        {
          "output_type": "stream",
          "name": "stdout",
          "text": [
            "[[[15 15 15 15 15]\n",
            "  [15 15 15 15 15]\n",
            "  [15 15 15 15 15]]\n",
            "\n",
            " [[15 15 15 15 15]\n",
            "  [15 15 15 15 15]\n",
            "  [15 15 15 15 15]]\n",
            "\n",
            " [[15 15 15 15 15]\n",
            "  [15 15 15 15 15]\n",
            "  [15 15 15 15 15]]\n",
            "\n",
            " [[15 15 15 15 15]\n",
            "  [15 15 15 15 15]\n",
            "  [15 15 15 15 15]]]\n"
          ]
        }
      ]
    },
    {
      "cell_type": "markdown",
      "source": [
        "# Numpy Array Indexing"
      ],
      "metadata": {
        "id": "a7C0EvaxAI7R"
      }
    },
    {
      "cell_type": "code",
      "source": [
        "my_np_array = np.array(\n",
        "    [1,2,3,4,5,6,7,8,9]\n",
        ")\n",
        "print(my_np_array[3])\n",
        "print(my_np_array[-6])"
      ],
      "metadata": {
        "colab": {
          "base_uri": "https://localhost:8080/"
        },
        "id": "RyDGzKem_VS5",
        "outputId": "e04d563f-15fc-41c0-b70d-a1fc070c5aaf"
      },
      "execution_count": 36,
      "outputs": [
        {
          "output_type": "stream",
          "name": "stdout",
          "text": [
            "4\n",
            "4\n"
          ]
        }
      ]
    },
    {
      "cell_type": "code",
      "source": [
        "my_2d_array = np.array(\n",
        "    [\n",
        "        [1,2,3,4],\n",
        "        [5,6,7,8],\n",
        "        [9,10,11,12]\n",
        "    ]\n",
        ")\n",
        "print(my_2d_array[1,1])\n",
        "print(my_2d_array[1,-3])"
      ],
      "metadata": {
        "colab": {
          "base_uri": "https://localhost:8080/"
        },
        "id": "y83igOYHAP-g",
        "outputId": "fec36d79-a45f-4cb8-849d-a5b4294a4b9c"
      },
      "execution_count": 41,
      "outputs": [
        {
          "output_type": "stream",
          "name": "stdout",
          "text": [
            "6\n",
            "6\n"
          ]
        }
      ]
    },
    {
      "cell_type": "code",
      "source": [
        "my_3d_array = np.array([\n",
        "    [[1,2,3,4],[2,3,4,5]],\n",
        "    [[4,5,6,7],[6,5,4,3]]\n",
        "])\n",
        "print(my_3d_array[1,1,-1]) #index(1d, 2d, 3d)"
      ],
      "metadata": {
        "colab": {
          "base_uri": "https://localhost:8080/"
        },
        "id": "ZIQcIi_nBPis",
        "outputId": "6b4a77f6-3258-43ff-bdf4-08307741f256"
      },
      "execution_count": 45,
      "outputs": [
        {
          "output_type": "stream",
          "name": "stdout",
          "text": [
            "3\n"
          ]
        }
      ]
    },
    {
      "cell_type": "markdown",
      "source": [
        "# Slicing numpy array\n"
      ],
      "metadata": {
        "id": "300yWCxfEaMu"
      }
    },
    {
      "cell_type": "code",
      "source": [
        "my_np_array = np.array(\n",
        "    [1,2,3,4,5,6,7,8,9]\n",
        ")\n",
        "print(my_np_array[0:8:2])\n",
        "print(my_np_array[::])\n",
        "print(my_np_array[2:5])"
      ],
      "metadata": {
        "colab": {
          "base_uri": "https://localhost:8080/"
        },
        "id": "R2W0qgO4EhrV",
        "outputId": "ed99175d-7457-49a8-f7be-f3052ecd8396"
      },
      "execution_count": 50,
      "outputs": [
        {
          "output_type": "stream",
          "name": "stdout",
          "text": [
            "[1 3 5 7]\n",
            "[1 2 3 4 5 6 7 8 9]\n",
            "[3 4 5]\n"
          ]
        }
      ]
    },
    {
      "cell_type": "code",
      "source": [
        "my_2d_array = np.array(\n",
        "    [\n",
        "        [1,2,3,4],\n",
        "        [5,6,7,8],\n",
        "        [9,10,11,12]\n",
        "    ]\n",
        ")\n",
        "print(my_2d_array[0:3, 1:3])\n",
        "print(my_2d_array[0:3, 1:3])"
      ],
      "metadata": {
        "colab": {
          "base_uri": "https://localhost:8080/"
        },
        "id": "4X8wFdz-Fbn3",
        "outputId": "ff069f60-f836-4fdc-cba7-c7a238419c8e"
      },
      "execution_count": 53,
      "outputs": [
        {
          "output_type": "stream",
          "name": "stdout",
          "text": [
            "[[ 2  3]\n",
            " [ 6  7]\n",
            " [10 11]]\n"
          ]
        }
      ]
    }
  ]
}