{
  "nbformat": 4,
  "nbformat_minor": 0,
  "metadata": {
    "colab": {
      "provenance": [],
      "authorship_tag": "ABX9TyPTJmHPPzohf+D9V7FbZQx8",
      "include_colab_link": true
    },
    "kernelspec": {
      "name": "python3",
      "display_name": "Python 3"
    },
    "language_info": {
      "name": "python"
    }
  },
  "cells": [
    {
      "cell_type": "markdown",
      "metadata": {
        "id": "view-in-github",
        "colab_type": "text"
      },
      "source": [
        "<a href=\"https://colab.research.google.com/github/BanTai01/Data_Science/blob/main/Numpy_Basic.ipynb\" target=\"_parent\"><img src=\"https://colab.research.google.com/assets/colab-badge.svg\" alt=\"Open In Colab\"/></a>"
      ]
    },
    {
      "cell_type": "code",
      "source": [
        "import numpy as np\n",
        "\n",
        "np.__version__"
      ],
      "metadata": {
        "colab": {
          "base_uri": "https://localhost:8080/",
          "height": 38
        },
        "id": "s8b5jOyA05Cp",
        "outputId": "bbcd5b07-6582-4d2c-b1b2-41dd934108bc"
      },
      "execution_count": null,
      "outputs": [
        {
          "output_type": "execute_result",
          "data": {
            "text/plain": [
              "'1.26.4'"
            ],
            "application/vnd.google.colaboratory.intrinsic+json": {
              "type": "string"
            }
          },
          "metadata": {},
          "execution_count": 2
        }
      ]
    },
    {
      "cell_type": "code",
      "source": [
        "# create a numpy array\n",
        "\"\"\"\n",
        "numpy properties: dtype, shape, ndim, type\n",
        "print(type(my_np_array))\n",
        "\"\"\"\n",
        "\n",
        "my_np_array = np.array(\n",
        "    [1,2,3,4,5]\n",
        ")\n",
        "print(my_np_array)\n",
        "print(type(my_np_array))\n",
        "print(my_np_array.dtype)\n",
        "print(my_np_array.shape)\n",
        "print(my_np_array.ndim)"
      ],
      "metadata": {
        "colab": {
          "base_uri": "https://localhost:8080/"
        },
        "id": "_NXnQWNP1G0z",
        "outputId": "e8fdabc1-07ef-4107-fcb7-7497e7be6dab"
      },
      "execution_count": null,
      "outputs": [
        {
          "output_type": "stream",
          "name": "stdout",
          "text": [
            "[1 2 3 4 5]\n",
            "<class 'numpy.ndarray'>\n",
            "int64\n",
            "(5,)\n",
            "1\n"
          ]
        }
      ]
    }
  ]
}