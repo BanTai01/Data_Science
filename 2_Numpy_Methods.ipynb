{
  "nbformat": 4,
  "nbformat_minor": 0,
  "metadata": {
    "colab": {
      "provenance": [],
      "authorship_tag": "ABX9TyOBTfjLyQ+ZTfnAMznEmB6+",
      "include_colab_link": true
    },
    "kernelspec": {
      "name": "python3",
      "display_name": "Python 3"
    },
    "language_info": {
      "name": "python"
    }
  },
  "cells": [
    {
      "cell_type": "markdown",
      "metadata": {
        "id": "view-in-github",
        "colab_type": "text"
      },
      "source": [
        "<a href=\"https://colab.research.google.com/github/BanTai01/Data_Science/blob/main/2_Numpy_Methods.ipynb\" target=\"_parent\"><img src=\"https://colab.research.google.com/assets/colab-badge.svg\" alt=\"Open In Colab\"/></a>"
      ]
    },
    {
      "cell_type": "markdown",
      "source": [
        "# Numpy array Iteration"
      ],
      "metadata": {
        "id": "n5J89m_2UQzM"
      }
    },
    {
      "cell_type": "code",
      "execution_count": 1,
      "metadata": {
        "id": "KoKFfLmPTvTv"
      },
      "outputs": [],
      "source": [
        "import numpy as np"
      ]
    },
    {
      "cell_type": "code",
      "source": [
        "my_np_array = np.array(\n",
        "    [1,2,3,4,5,6]\n",
        ")\n",
        "print(my_np_array)"
      ],
      "metadata": {
        "colab": {
          "base_uri": "https://localhost:8080/"
        },
        "id": "OsRpq1CyUUir",
        "outputId": "94d40858-fa8c-4178-c906-b73ed35a3be0"
      },
      "execution_count": 2,
      "outputs": [
        {
          "output_type": "stream",
          "name": "stdout",
          "text": [
            "[1 2 3 4 5 6]\n"
          ]
        }
      ]
    },
    {
      "cell_type": "code",
      "source": [
        "\"\"\"Option 1: Iterate by value\n",
        "\"\"\"\n",
        "for val in my_np_array:\n",
        "  print(val)"
      ],
      "metadata": {
        "id": "JDM45KkGUi_L",
        "colab": {
          "base_uri": "https://localhost:8080/"
        },
        "outputId": "f1b5ed5d-8a17-4c89-86a5-05e2a6aa9c9f"
      },
      "execution_count": 3,
      "outputs": [
        {
          "output_type": "stream",
          "name": "stdout",
          "text": [
            "1\n",
            "2\n",
            "3\n",
            "4\n",
            "5\n",
            "6\n"
          ]
        }
      ]
    },
    {
      "cell_type": "code",
      "source": [
        "\"\"\"Option 2: Iterate by Index\"\"\"\n",
        "for i in range(len(my_np_array)):\n",
        "  print(my_np_array[i])"
      ],
      "metadata": {
        "colab": {
          "base_uri": "https://localhost:8080/"
        },
        "id": "LfGWZZfWk_AX",
        "outputId": "5931cb75-6078-4e50-eb81-194c069ff75a"
      },
      "execution_count": 6,
      "outputs": [
        {
          "output_type": "stream",
          "name": "stdout",
          "text": [
            "1\n",
            "2\n",
            "3\n",
            "4\n",
            "5\n",
            "6\n"
          ]
        }
      ]
    },
    {
      "cell_type": "code",
      "source": [
        "# Option 3: Iterate by value and index\n",
        "for i, val in enumerate(my_np_array):\n",
        "  print(f\"index = {i} value = {val}\")"
      ],
      "metadata": {
        "colab": {
          "base_uri": "https://localhost:8080/"
        },
        "id": "oPDGsE-yk-wk",
        "outputId": "310ab472-1cf9-494f-9c2a-842c0a077eba"
      },
      "execution_count": 7,
      "outputs": [
        {
          "output_type": "stream",
          "name": "stdout",
          "text": [
            "index = 0 value = 1\n",
            "index = 1 value = 2\n",
            "index = 2 value = 3\n",
            "index = 3 value = 4\n",
            "index = 4 value = 5\n",
            "index = 5 value = 6\n"
          ]
        }
      ]
    },
    {
      "cell_type": "markdown",
      "source": [
        "# Numpy methods\n"
      ],
      "metadata": {
        "id": "idJKEHfQmFkf"
      }
    },
    {
      "cell_type": "code",
      "source": [
        "# Reshape\n",
        "\"\"\"Condition : multiplication of dimension values before and after reshaping must be same\n",
        "Step 1: flattening ->1D\n",
        "[1,2,3,4,5,6,7,8,9,10,11,12,13,14,15]\n",
        "Step 2: Reshaping\n",
        "[[[1,2,3,4,],[6,7,8,9,10],[11,12,13,14,15]]] ===1,\n",
        "\"\"\"\n",
        "my_2d_array = np.array(\n",
        "    [\n",
        "        [1,2,3],\n",
        "        [4,5,6],\n",
        "        [7,8,9],\n",
        "        [10,11,12],\n",
        "        [13,14,15]\n",
        "    ]\n",
        ")\n",
        "print(my_2d_array.shape)\n",
        "print(my_2d_array.reshape(3,5))\n",
        "print(my_2d_array.reshape(1, 3, 5))"
      ],
      "metadata": {
        "colab": {
          "base_uri": "https://localhost:8080/"
        },
        "id": "u83ZjJkok-kL",
        "outputId": "23b7641d-bdfe-4cd7-9e83-5708d0ece478"
      },
      "execution_count": 12,
      "outputs": [
        {
          "output_type": "stream",
          "name": "stdout",
          "text": [
            "(5, 3)\n",
            "[[ 1  2  3  4  5]\n",
            " [ 6  7  8  9 10]\n",
            " [11 12 13 14 15]]\n",
            "[[[ 1  2  3  4  5]\n",
            "  [ 6  7  8  9 10]\n",
            "  [11 12 13 14 15]]]\n"
          ]
        }
      ]
    },
    {
      "cell_type": "code",
      "source": [
        "\"\"\"Reshaping with -1\n",
        "size of my_np_array = 3*4*2*2 = 48\n",
        "if we want to reshape this into : 2*2*x or x*2*2 or 2*x*2=============2,2,-1\n",
        "\"\"\"\n",
        "my_np_array = np.zeros(shape= (3,4,2,2))\n",
        "\n",
        "my_np_array_reshaped = my_np_array.reshape(2,2,-1)\n",
        "print(my_np_array_reshaped.shape)"
      ],
      "metadata": {
        "colab": {
          "base_uri": "https://localhost:8080/"
        },
        "id": "J0ztCKMNk-Yn",
        "outputId": "7d02bc3b-79c1-45f7-bdf7-4cf4b82f694a"
      },
      "execution_count": 19,
      "outputs": [
        {
          "output_type": "stream",
          "name": "stdout",
          "text": [
            "(2, 2, 12)\n"
          ]
        }
      ]
    },
    {
      "cell_type": "code",
      "source": [
        "\"\"\"Sort\"\"\"\n",
        "probabilities = np.array(\n",
        "    [0.3,0.1,0.4,0.2]\n",
        ")\n",
        "probabilities_sorted = np.sort(probabilities)\n",
        "print(probabilities_sorted)\n",
        "\n",
        "probabilities_reverse_sorted = np.sort(probabilities)[::-1]\n",
        "print(probabilities_reverse_sorted)"
      ],
      "metadata": {
        "colab": {
          "base_uri": "https://localhost:8080/"
        },
        "id": "f4YLFT5xmEAo",
        "outputId": "057c009a-4171-4733-ca31-3544f5afb831"
      },
      "execution_count": 20,
      "outputs": [
        {
          "output_type": "stream",
          "name": "stdout",
          "text": [
            "[0.1 0.2 0.3 0.4]\n",
            "[0.4 0.3 0.2 0.1]\n"
          ]
        }
      ]
    },
    {
      "cell_type": "code",
      "source": [
        "\"\"\" Argmax, Argmin \"\"\"\n",
        "\n",
        "index_max = np.argmax(probabilities)\n",
        "print(index_max)\n",
        "\n",
        "index_min = np.argmin(probabilities)\n",
        "print(index_min)"
      ],
      "metadata": {
        "colab": {
          "base_uri": "https://localhost:8080/"
        },
        "id": "s8GsQOoJmD8r",
        "outputId": "405d32a6-b5d8-454d-9f5b-e7f01de37b32"
      },
      "execution_count": 22,
      "outputs": [
        {
          "output_type": "stream",
          "name": "stdout",
          "text": [
            "2\n",
            "1\n"
          ]
        }
      ]
    },
    {
      "cell_type": "code",
      "source": [
        "\"\"\" Split \"\"\"\n",
        "\n",
        "my_np_array = np.array(\n",
        "    [1,5,1,1,5,7]\n",
        ")\n",
        "\n",
        "new_np_array = np.split(\n",
        "    my_np_array,\n",
        "    indices_or_sections = 3\n",
        ")\n",
        "print(new_np_array)\n",
        "print(new_np_array[0])\n",
        "print(new_np_array[2])"
      ],
      "metadata": {
        "colab": {
          "base_uri": "https://localhost:8080/"
        },
        "id": "1SPDUzvUmD5h",
        "outputId": "fb4abaa2-bf82-4d1e-872b-aab05cb9fa72"
      },
      "execution_count": 27,
      "outputs": [
        {
          "output_type": "stream",
          "name": "stdout",
          "text": [
            "[array([1, 5]), array([1, 1]), array([5, 7])]\n",
            "[1 5]\n",
            "[5 7]\n"
          ]
        }
      ]
    },
    {
      "cell_type": "code",
      "source": [
        " \"\"\" Dot Product\n",
        " v1 = 3i + 2j\n",
        " v2 = 3i - 4j\n",
        "\n",
        " v1 * v2 = (3*3)+(2* -4) = 1\n",
        "\n",
        " \"\"\"\n",
        "my_np_array1 = np.array(\n",
        "    [1,2,3,4]\n",
        ")\n",
        "my_np_array2 = np.array(\n",
        "    [5,6,7,8]\n",
        ")\n",
        "print(my_np_array1)\n",
        "print(my_np_array2)\n",
        "\n",
        "dot_product = np.dot(my_np_array1, my_np_array2)\n",
        "print(dot_product)"
      ],
      "metadata": {
        "colab": {
          "base_uri": "https://localhost:8080/"
        },
        "id": "FabeMv7zwdfp",
        "outputId": "a2494419-e454-4d56-a6af-0a2ec382793e"
      },
      "execution_count": 30,
      "outputs": [
        {
          "output_type": "stream",
          "name": "stdout",
          "text": [
            "[1 2 3 4]\n",
            "[5 6 7 8]\n",
            "70\n"
          ]
        }
      ]
    },
    {
      "cell_type": "code",
      "source": [
        "\"\"\"Matrix Transpose\"\"\"\n",
        "my_2d_array_1 = np.array(\n",
        "    [\n",
        "        [2,1,3],[7,5,6]\n",
        "    ]\n",
        ")\n",
        "print(my_np_array1.shape)\n",
        "print(my_2d_array_1.T)\n",
        "print(my_np_array1.shape)"
      ],
      "metadata": {
        "colab": {
          "base_uri": "https://localhost:8080/"
        },
        "id": "Dy3LPiJTwdSF",
        "outputId": "6d2eb774-4b5e-43e4-f8c1-51aa6cbb87be"
      },
      "execution_count": 32,
      "outputs": [
        {
          "output_type": "stream",
          "name": "stdout",
          "text": [
            "(4,)\n",
            "[[2 7]\n",
            " [1 5]\n",
            " [3 6]]\n",
            "(4,)\n"
          ]
        }
      ]
    },
    {
      "cell_type": "code",
      "source": [
        "\"\"\" Mean, Median, Standard deviation\n",
        "std = sqrt((x2-mean)^2 + (x2-mean)^2......../(n-1))\n",
        "\"\"\"\n",
        "\n",
        "my_np_array = np.array(\n",
        "    [1,5,1,1,5,7]\n",
        ")\n",
        "\n",
        "print(np.mean(my_np_array))\n",
        "print(np.median(my_np_array))\n",
        "print(np.std(my_np_array))"
      ],
      "metadata": {
        "colab": {
          "base_uri": "https://localhost:8080/"
        },
        "id": "_FgG8CWFwdE4",
        "outputId": "c7725161-fb47-430f-c046-24b9f710479d"
      },
      "execution_count": 33,
      "outputs": [
        {
          "output_type": "stream",
          "name": "stdout",
          "text": [
            "3.3333333333333335\n",
            "3.0\n",
            "2.4267032964268394\n"
          ]
        }
      ]
    },
    {
      "cell_type": "markdown",
      "source": [
        "# Numpy Filtering\n"
      ],
      "metadata": {
        "id": "AjOSyVLn1PLN"
      }
    },
    {
      "cell_type": "code",
      "source": [
        "\"\"\" Numpy filter\n",
        "Option 1: Boolean mask\n",
        "Option 2: Conditional\n",
        "Option 3: Indices\n",
        "\"\"\"\n",
        "my_np_array0 = np.array(\n",
        "    [1,2,3,4,5,6]\n",
        ")\n",
        "\n",
        "filter_mask = [True, False, True, False, True, False]\n",
        "filtered_array = my_np_array0[filter_mask]\n",
        "print(filtered_array)"
      ],
      "metadata": {
        "colab": {
          "base_uri": "https://localhost:8080/"
        },
        "id": "I3AMvcjCwc4j",
        "outputId": "0ff461c3-2a3d-4041-ed41-794d2b385931"
      },
      "execution_count": 34,
      "outputs": [
        {
          "output_type": "stream",
          "name": "stdout",
          "text": [
            "[1 3 5]\n"
          ]
        }
      ]
    },
    {
      "cell_type": "code",
      "source": [
        "filter_mask = (my_np_array0 % 2 == 1)\n",
        "print(filter_mask)\n",
        "filtered_array = my_np_array0[filter_mask]\n",
        "print(filtered_array)"
      ],
      "metadata": {
        "colab": {
          "base_uri": "https://localhost:8080/"
        },
        "id": "FSMhUEZhwcqp",
        "outputId": "385f7565-492a-4b7a-ca07-b6de5a9b2245"
      },
      "execution_count": 36,
      "outputs": [
        {
          "output_type": "stream",
          "name": "stdout",
          "text": [
            "[ True False  True False  True False]\n",
            "[1 3 5]\n"
          ]
        }
      ]
    },
    {
      "cell_type": "code",
      "source": [
        "indices = [0, 2, 5]\n",
        "filtered_array = my_np_array0[indices]\n",
        "print(filtered_array)"
      ],
      "metadata": {
        "colab": {
          "base_uri": "https://localhost:8080/"
        },
        "id": "dtOK0haW3IiY",
        "outputId": "2a8b2848-0e7b-4e23-eecb-3cbc29061643"
      },
      "execution_count": 37,
      "outputs": [
        {
          "output_type": "stream",
          "name": "stdout",
          "text": [
            "[1 3 6]\n"
          ]
        }
      ]
    },
    {
      "cell_type": "code",
      "source": [
        "\"\"\" Custom filter method\"\"\"\n",
        "def my_filter_method(x):\n",
        "  if x % 2 == 0:\n",
        "    return False\n",
        "  return True\n",
        "\n",
        "filtered_iterable = filter(my_filter_method, my_np_array0)\n",
        "my_filtered_array = np.array(\n",
        "    list(filtered_iterable)\n",
        ")\n",
        "\n",
        "my_filtered_array"
      ],
      "metadata": {
        "colab": {
          "base_uri": "https://localhost:8080/"
        },
        "id": "m5Xp8MCe3IQ4",
        "outputId": "4549cee1-2d87-462c-efd8-9a790c8a86b4"
      },
      "execution_count": 38,
      "outputs": [
        {
          "output_type": "execute_result",
          "data": {
            "text/plain": [
              "array([1, 3, 5])"
            ]
          },
          "metadata": {},
          "execution_count": 38
        }
      ]
    },
    {
      "cell_type": "markdown",
      "source": [
        "# Vectorization\n"
      ],
      "metadata": {
        "id": "cOpD9qfE6IOE"
      }
    },
    {
      "cell_type": "code",
      "source": [
        "my_1d_array = np.array(\n",
        "    [1,2,3,4,5]\n",
        ")\n",
        "print(my_1d_array)\n",
        "my_1d_array % 2 == 1\n",
        "\n",
        "\n",
        "my_1d_array = my_1d_array + 5\n",
        "print(my_1d_array)"
      ],
      "metadata": {
        "colab": {
          "base_uri": "https://localhost:8080/"
        },
        "id": "yK5ZsuBc55ui",
        "outputId": "8354e2f0-a997-45c7-b2d5-cd85796acb27"
      },
      "execution_count": 41,
      "outputs": [
        {
          "output_type": "stream",
          "name": "stdout",
          "text": [
            "[1 2 3 4 5]\n",
            "[ 6  7  8  9 10]\n"
          ]
        }
      ]
    },
    {
      "cell_type": "markdown",
      "source": [
        "# Broadcasting\n"
      ],
      "metadata": {
        "id": "gRHkBnV87udh"
      }
    },
    {
      "cell_type": "code",
      "source": [
        "\"\"\" Broadcasting\n",
        "- converting a lower shape into higher shape for vectorization\n",
        "\"\"\"\n",
        "w = np.array(\n",
        "    [1,2]\n",
        ")\n",
        "x = np.array(\n",
        "    [\n",
        "        [3,4],\n",
        "        [5,6],\n",
        "        [7, -8],\n",
        "        [-5, -3]\n",
        "    ]\n",
        ")\n",
        "print(w*x)"
      ],
      "metadata": {
        "colab": {
          "base_uri": "https://localhost:8080/"
        },
        "id": "7GHlu6td55PM",
        "outputId": "26fecdd9-a89a-4b94-ab2c-b7be3d812937"
      },
      "execution_count": 42,
      "outputs": [
        {
          "output_type": "stream",
          "name": "stdout",
          "text": [
            "[[  3   8]\n",
            " [  5  12]\n",
            " [  7 -16]\n",
            " [ -5  -6]]\n"
          ]
        }
      ]
    }
  ]
}