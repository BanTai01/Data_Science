{
  "nbformat": 4,
  "nbformat_minor": 0,
  "metadata": {
    "colab": {
      "provenance": [],
      "authorship_tag": "ABX9TyMTw34F3A80x7I53U70uQvQ",
      "include_colab_link": true
    },
    "kernelspec": {
      "name": "python3",
      "display_name": "Python 3"
    },
    "language_info": {
      "name": "python"
    }
  },
  "cells": [
    {
      "cell_type": "markdown",
      "metadata": {
        "id": "view-in-github",
        "colab_type": "text"
      },
      "source": [
        "<a href=\"https://colab.research.google.com/github/BanTai01/Data_Science/blob/main/Numpy_Basic_1st_Class.ipynb\" target=\"_parent\"><img src=\"https://colab.research.google.com/assets/colab-badge.svg\" alt=\"Open In Colab\"/></a>"
      ]
    },
    {
      "cell_type": "code",
      "source": [
        "import numpy as np\n",
        "\n",
        "np.__version__"
      ],
      "metadata": {
        "colab": {
          "base_uri": "https://localhost:8080/",
          "height": 38
        },
        "id": "s8b5jOyA05Cp",
        "outputId": "bbcd5b07-6582-4d2c-b1b2-41dd934108bc"
      },
      "execution_count": null,
      "outputs": [
        {
          "output_type": "execute_result",
          "data": {
            "text/plain": [
              "'1.26.4'"
            ],
            "application/vnd.google.colaboratory.intrinsic+json": {
              "type": "string"
            }
          },
          "metadata": {},
          "execution_count": 2
        }
      ]
    },
    {
      "cell_type": "code",
      "source": [
        "# create a numpy array\n",
        "\"\"\"\n",
        "numpy properties: dtype, shape, ndim, type\n",
        "print(type(my_np_array))\n",
        "\"\"\"\n",
        "\n",
        "my_np_array = np.array(\n",
        "    [1,2,3,4,5]\n",
        ")\n",
        "print(my_np_array)\n",
        "print(type(my_np_array))\n",
        "print(my_np_array.dtype)\n",
        "print(my_np_array.shape)\n",
        "print(my_np_array.ndim)"
      ],
      "metadata": {
        "colab": {
          "base_uri": "https://localhost:8080/"
        },
        "id": "_NXnQWNP1G0z",
        "outputId": "e8fdabc1-07ef-4107-fcb7-7497e7be6dab"
      },
      "execution_count": null,
      "outputs": [
        {
          "output_type": "stream",
          "name": "stdout",
          "text": [
            "[1 2 3 4 5]\n",
            "<class 'numpy.ndarray'>\n",
            "int64\n",
            "(5,)\n",
            "1\n"
          ]
        }
      ]
    },
    {
      "cell_type": "code",
      "source": [
        "\"\"\"\n",
        "Create an array with all zeros\n",
        "\"\"\"\n",
        "zeros_np_array = np.zeros(\n",
        "    shape = (5,)\n",
        ")\n",
        "zeros_np_array"
      ],
      "metadata": {
        "colab": {
          "base_uri": "https://localhost:8080/"
        },
        "id": "2Ctys8fx3K2Z",
        "outputId": "6d6ee2a8-1f84-4a80-ad72-90988a8efdd7"
      },
      "execution_count": 8,
      "outputs": [
        {
          "output_type": "execute_result",
          "data": {
            "text/plain": [
              "array([0., 0., 0., 0., 0.])"
            ]
          },
          "metadata": {},
          "execution_count": 8
        }
      ]
    },
    {
      "cell_type": "code",
      "source": [
        "\"\"\"\n",
        "Create Identity Matrix\n",
        "\"\"\"\n",
        "id_matrix = np.eye(3)\n",
        "print(id_matrix)"
      ],
      "metadata": {
        "colab": {
          "base_uri": "https://localhost:8080/"
        },
        "id": "vN90XUfq3-cG",
        "outputId": "9ff99688-208c-4b19-8b1e-5b02d37de1b7"
      },
      "execution_count": 9,
      "outputs": [
        {
          "output_type": "stream",
          "name": "stdout",
          "text": [
            "[[1. 0. 0.]\n",
            " [0. 1. 0.]\n",
            " [0. 0. 1.]]\n"
          ]
        }
      ]
    },
    {
      "cell_type": "code",
      "source": [
        "\"\"\" Type Cast\n",
        "Conversion of data type\n",
        "\"\"\"\n",
        "my_empty_np_array = np.empty(\n",
        "    shape = (5,)\n",
        ")\n",
        "print(my_empty_np_array)\n",
        "print(my_empty_np_array.dtype)"
      ],
      "metadata": {
        "colab": {
          "base_uri": "https://localhost:8080/"
        },
        "id": "5db1oncA4XTL",
        "outputId": "af2f2851-0626-4a32-c9ff-ff7e21524a98"
      },
      "execution_count": 12,
      "outputs": [
        {
          "output_type": "stream",
          "name": "stdout",
          "text": [
            "[0. 0. 0. 0. 0.]\n",
            "float64\n"
          ]
        }
      ]
    },
    {
      "cell_type": "code",
      "source": [
        "\"\"\"Create a sequential array\n",
        "\"\"\"\n",
        "my_array = np.arange(start=1, stop=10, step=2)\n",
        "my_array"
      ],
      "metadata": {
        "colab": {
          "base_uri": "https://localhost:8080/"
        },
        "id": "WkrImdJd5esK",
        "outputId": "16b1c0b6-ae20-4bfc-ab68-95bed2a161bd"
      },
      "execution_count": 22,
      "outputs": [
        {
          "output_type": "execute_result",
          "data": {
            "text/plain": [
              "array([1, 3, 5, 7, 9])"
            ]
          },
          "metadata": {},
          "execution_count": 22
        }
      ]
    },
    {
      "cell_type": "code",
      "source": [
        "my_array = np.arange(1, 10, 1)\n",
        "my_array"
      ],
      "metadata": {
        "colab": {
          "base_uri": "https://localhost:8080/"
        },
        "id": "pwQtaiIN6zNT",
        "outputId": "350bd73d-31c9-45d2-e0ed-8c6b08e121d6"
      },
      "execution_count": 23,
      "outputs": [
        {
          "output_type": "execute_result",
          "data": {
            "text/plain": [
              "array([1, 2, 3, 4, 5, 6, 7, 8, 9])"
            ]
          },
          "metadata": {},
          "execution_count": 23
        }
      ]
    },
    {
      "cell_type": "code",
      "source": [
        "\"\"\"\n",
        "Start, A, B, C, Stop\n",
        "---all are same distance---\n",
        "\"\"\"\n",
        "my_np_array = np.linspace(\n",
        "    start = 0,\n",
        "    stop = 10,\n",
        "    num = 5\n",
        ")\n",
        "my_np_array"
      ],
      "metadata": {
        "colab": {
          "base_uri": "https://localhost:8080/"
        },
        "id": "PfwqA8Xu68uU",
        "outputId": "b6bb0581-8223-4b58-b60e-c6deabb4c2ed"
      },
      "execution_count": 24,
      "outputs": [
        {
          "output_type": "execute_result",
          "data": {
            "text/plain": [
              "array([ 0. ,  2.5,  5. ,  7.5, 10. ])"
            ]
          },
          "metadata": {},
          "execution_count": 24
        }
      ]
    },
    {
      "cell_type": "code",
      "source": [
        "\"\"\"\n",
        "Numpy array Dimensions\n",
        "-scalar -> 0D\n",
        "-vector -> 1D\n",
        "-matrix -> 2D\n",
        "-tensor -> xD where x>2\n",
        "tensor is a unit data type of pyTorch and TensorFlow\n",
        "\"\"\"\n",
        "my_empty_np_array = np.empty(\n",
        "    shape = (5, 3, 7)\n",
        ")\n",
        "print(my_empty_np_array)\n",
        "print(my_empty_np_array.dtype)\n"
      ],
      "metadata": {
        "colab": {
          "base_uri": "https://localhost:8080/"
        },
        "collapsed": true,
        "id": "XIBb0yi07pIV",
        "outputId": "f3e46f2b-9675-403a-d692-774a43417b3c"
      },
      "execution_count": 29,
      "outputs": [
        {
          "output_type": "stream",
          "name": "stdout",
          "text": [
            "[[[4.95356771e-310 0.00000000e+000 3.83889007e-321             nan\n",
            "   1.12646967e-321 0.00000000e+000 1.54417150e+256]\n",
            "  [5.38970828e+228 1.87673447e-152 6.96742168e+252 5.81241635e+180\n",
            "   6.01334434e-154 5.81948471e+199 9.75394660e+199]\n",
            "  [2.32159323e-152 9.75384927e+199 3.99255546e+252 1.09857249e-152\n",
            "   4.44032500e+252 4.08841057e+233 6.01346954e-154]]\n",
            "\n",
            " [[7.22928306e+159 6.96769793e+252 1.39806874e-152 1.49457388e+195\n",
            "   9.30537467e+199 2.03481699e+174 2.43861180e-152]\n",
            "  [7.22939910e+159 1.52394763e-258 6.01347002e-154 3.17095864e+180\n",
            "   5.26750370e+170 7.69110575e+218 1.23557999e-259]\n",
            "  [6.01347002e-154 2.55796528e-152 7.35989720e+223 7.26607058e+223\n",
            "   3.99255546e+252 1.09857249e-152 1.21906490e-152]]\n",
            "\n",
            " [[1.82822904e+044 2.21494665e+068 1.78436354e-258 6.01347002e-154\n",
            "   1.81270012e-152 7.67112743e+170 4.78714289e+180]\n",
            "  [1.42499357e+248 2.13663437e+161 9.30860811e+199 8.70860497e+183\n",
            "   1.69376034e+190 6.01346953e-154 6.01347002e-154]\n",
            "  [1.96631951e-153 2.25538746e+276 8.87670850e+247 3.65284552e+233\n",
            "   6.67650174e+151 2.75179990e+214 2.06999328e+161]]\n",
            "\n",
            " [[6.01346953e-154 6.01347002e-154 1.96632065e-153 5.06259386e+233\n",
            "   1.33355668e+185 4.73443620e-120 5.05290183e+246]\n",
            "  [5.98129747e-154 3.67285416e+194 2.87908278e+214 7.26612806e+223\n",
            "   1.41456443e+190 4.91437037e+252 7.99856104e+151]\n",
            "  [9.81563351e-153 8.54524272e+194 8.88237201e+247 6.01334657e-154\n",
            "   2.61069528e+257 1.03758716e+243 7.48543529e+247]]\n",
            "\n",
            " [[6.18737688e+223 8.87663363e+247 2.45066359e+198 6.01099947e+175\n",
            "   2.64669726e+180 2.46343037e-154 2.41079391e+198]\n",
            "  [4.76862668e+180 9.30860811e+199 5.80430782e+180 3.67289384e+194\n",
            "   1.71297117e+262 1.81270012e-152 8.03940002e+165]\n",
            "  [7.35989720e+223 5.98181669e-154 1.16317427e-128 9.78770109e-153\n",
            "   2.13230947e-259 6.90238481e-310 6.04097515e+140]]]\n",
            "float64\n"
          ]
        }
      ]
    },
    {
      "cell_type": "code",
      "source": [
        "\"\"\"Numpy indexing\n",
        "1. Non-negetive Indexing (0, 1, 2, ......)\n",
        "2. Negetive Indexing (-1, -2, ..........)\n",
        "\"\"\"\n",
        "my_np_array = np.array(\n",
        "    [1,2,3,4,5,6,7,8]\n",
        ")\n",
        "print(my_np_array[2])\n",
        "print(my_np_array[-6])"
      ],
      "metadata": {
        "colab": {
          "base_uri": "https://localhost:8080/"
        },
        "id": "yZHwhhQw8mq7",
        "outputId": "b6df1064-ef1d-4fb2-d91c-55e906b40aba"
      },
      "execution_count": 27,
      "outputs": [
        {
          "output_type": "stream",
          "name": "stdout",
          "text": [
            "3\n",
            "3\n"
          ]
        }
      ]
    },
    {
      "cell_type": "code",
      "source": [
        "my_2d_array = np.array(\n",
        "    [[1,2,3,4],\n",
        "     [5,6,7,8],\n",
        "    [7,8,9,10]]\n",
        ")\n",
        "print(my_2d_array[1,1])\n",
        "print(my_2d_array[-2,-3])"
      ],
      "metadata": {
        "colab": {
          "base_uri": "https://localhost:8080/"
        },
        "id": "JJ8Zp5A69yJU",
        "outputId": "3de07243-0723-44cb-a4ca-5ef3b66472f4"
      },
      "execution_count": 32,
      "outputs": [
        {
          "output_type": "stream",
          "name": "stdout",
          "text": [
            "6\n",
            "6\n"
          ]
        }
      ]
    },
    {
      "cell_type": "code",
      "source": [
        "\"\"\"\n",
        "numpy slicing\n",
        "\"\"\"\n",
        "my_1d_array = np.array(\n",
        "    [1,2,3,4,5,6,7]\n",
        ")\n",
        "print(my_1d_array[1:4:1])\n",
        "print(my_1d_array[0:8:2])"
      ],
      "metadata": {
        "colab": {
          "base_uri": "https://localhost:8080/"
        },
        "id": "XPeIQljy-ivE",
        "outputId": "0b76f519-5c91-4aaa-d494-2c41aa4d60bf"
      },
      "execution_count": 35,
      "outputs": [
        {
          "output_type": "stream",
          "name": "stdout",
          "text": [
            "[2 3 4]\n",
            "[1 3 5 7]\n"
          ]
        }
      ]
    },
    {
      "cell_type": "code",
      "source": [
        "my_1d_array = np.array(\n",
        "    [1,2,3,4,5,6,7]\n",
        ")\n",
        "print(my_1d_array[::])\n",
        "print(my_1d_array[2:5])\n",
        "print(my_1d_array[1:5:2])"
      ],
      "metadata": {
        "colab": {
          "base_uri": "https://localhost:8080/"
        },
        "id": "t82EijgS_hTy",
        "outputId": "d4e64094-491e-4bf6-e990-c585e9260d5c"
      },
      "execution_count": 36,
      "outputs": [
        {
          "output_type": "stream",
          "name": "stdout",
          "text": [
            "[1 2 3 4 5 6 7]\n",
            "[3 4 5]\n",
            "[2 4]\n"
          ]
        }
      ]
    },
    {
      "cell_type": "code",
      "source": [
        "my_2d_array = np.array(\n",
        "    [[1,2,3,4],\n",
        "     [5,6,7,8],\n",
        "    [7,8,9,10]]\n",
        ")\n",
        "print(my_2d_array[0:2,1:3])"
      ],
      "metadata": {
        "colab": {
          "base_uri": "https://localhost:8080/"
        },
        "id": "hbWq6d32_ygi",
        "outputId": "8772f7d1-be1e-405e-d045-ddc3acb5cf7e"
      },
      "execution_count": 39,
      "outputs": [
        {
          "output_type": "stream",
          "name": "stdout",
          "text": [
            "[[2 3]\n",
            " [6 7]\n",
            " [8 9]]\n"
          ]
        }
      ]
    }
  ]
}